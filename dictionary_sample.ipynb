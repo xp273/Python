{
 "cells": [
  {
   "cell_type": "code",
   "execution_count": 17,
   "metadata": {},
   "outputs": [
    {
     "name": "stdout",
     "output_type": "stream",
     "text": [
      "===========Menu============\n",
      "Menu: Drink\n",
      "/n\n",
      "Name: Drink1 - Price: 20000\n",
      "Name: Drink2 - Price: 15000\n",
      "Name: Drink3 - Price: 18000\n",
      "Name: Drink4 - Price: 22000\n",
      "Name: Drink5 - Price: 25000\n",
      "===========================\n",
      "Menu: Food\n",
      "/n\n",
      "Name: Food1 - Price: 15000\n",
      "Name: Food2 - Price: 18000\n",
      "Name: Food3 - Price: 19000\n",
      "Name: Food4 - Price: 16500\n",
      "Name: Food5 - Price: 20000\n",
      "===========================\n"
     ]
    }
   ],
   "source": [
    "menu = {\n",
    "    'Drink': {\n",
    "        'Drink1': 20000,\n",
    "        'Drink2': 15000,\n",
    "        'Drink3': 18000,\n",
    "        'Drink4': 22000,\n",
    "        'Drink5': 25000,\n",
    "        },\n",
    "    'Food':{\n",
    "        'Food1': 15000,\n",
    "        'Food2': 18000,\n",
    "        'Food3': 19000,\n",
    "        'Food4': 16500,\n",
    "        'Food5': 20000  \n",
    "        }\n",
    "    }\n",
    "\n",
    "print(\"===========Menu============\")\n",
    "for type in menu:\n",
    "    print(f'Menu: {type}' )\n",
    "    for menu_name in menu[type]:\n",
    "        print(f'Name: {menu_name} - Price: {menu[type][menu_name]}')\n",
    "    print('===========================')\n",
    "\n",
    "\n"
   ]
  }
 ],
 "metadata": {
  "kernelspec": {
   "display_name": "Python 3",
   "language": "python",
   "name": "python3"
  },
  "language_info": {
   "codemirror_mode": {
    "name": "ipython",
    "version": 3
   },
   "file_extension": ".py",
   "mimetype": "text/x-python",
   "name": "python",
   "nbconvert_exporter": "python",
   "pygments_lexer": "ipython3",
   "version": "3.11.6"
  }
 },
 "nbformat": 4,
 "nbformat_minor": 2
}
