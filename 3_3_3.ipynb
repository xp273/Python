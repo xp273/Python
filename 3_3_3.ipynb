{
 "cells": [
  {
   "cell_type": "code",
   "execution_count": null,
   "metadata": {},
   "outputs": [],
   "source": [
    "#Tinh gia tien (if)\n",
    "inputdrink = int(input(\"Choose your drink: (1 to 5)\"))\n",
    "drink1 = 8000\n",
    "drink2 = 9000\n",
    "drink3 = 8500\n",
    "drink4 = 10000\n",
    "drink5 = 9500\n",
    "if (inputdrink == 1):\n",
    "    inputcount = int(input(\"Choose amount: \"))\n",
    "    totalprice = drink1*inputcount\n",
    "    print(f'Total price: {totalprice}')\n",
    "if (inputdrink == 2):\n",
    "    inputcount = int(input(\"Choose amount: \"))\n",
    "    totalprice = drink2*inputcount\n",
    "    print(f'Total price: {totalprice}')\n",
    "if (inputdrink == 3):\n",
    "    inputcount = int(input(\"Choose amount: \"))\n",
    "    totalprice = drink3*inputcount\n",
    "    print(f'Total price: {totalprice}')\n",
    "if (inputdrink == 4):\n",
    "    inputcount = int(input(\"Choose amount: \"))\n",
    "    totalprice = drink4*inputcount\n",
    "    print(f'Total price: {totalprice}')\n",
    "if (inputdrink == 5):      \n",
    "    inputcount = int(input(\"Choose amount: \"))\n",
    "    totalprice = drink5*inputcount\n",
    "    print(f'Total price: {totalprice}')"
   ]
  },
  {
   "cell_type": "code",
   "execution_count": 3,
   "metadata": {},
   "outputs": [
    {
     "name": "stdout",
     "output_type": "stream",
     "text": [
      "Total price: 40000\n"
     ]
    }
   ],
   "source": [
    "#Tinh gia tien (if else)\n",
    "inputdrink = int(input(\"Choose your drink: (1 to 5)\"))\n",
    "drink1 = 8000\n",
    "drink2 = 9000\n",
    "drink3 = 8500\n",
    "drink4 = 10000\n",
    "drink5 = 9500\n",
    "\n",
    "if(inputdrink == 1):\n",
    "    inputcount = int(input(\"Choose amount: \"))\n",
    "    totalprice = drink1*inputcount\n",
    "    print(f'Total price: {totalprice}')\n",
    "else:\n",
    "    if(inputdrink == 2): \n",
    "        inputcount = int(input(\"Choose amount: \"))\n",
    "        totalprice = drink2*inputcount\n",
    "        print(f'Total price: {totalprice}')\n",
    "    else:\n",
    "        if(inputdrink == 3):    \n",
    "            inputcount = int(input(\"Choose amount: \"))\n",
    "            totalprice = drink3*inputcount\n",
    "            print(f'Total price: {totalprice}')\n",
    "        else: \n",
    "            if(inputdrink == 4):        \n",
    "                inputcount = int(input(\"Choose amount: \"))\n",
    "                totalprice = drink4*inputcount\n",
    "                print(f'Total price: {totalprice}')\n",
    "            else:\n",
    "                if(inputdrink == 5):\n",
    "                    inputcount = int(input(\"Choose amount: \"))\n",
    "                    totalprice = drink4*inputcount\n",
    "                    print(f'Total price: {totalprice}')"
   ]
  },
  {
   "cell_type": "code",
   "execution_count": null,
   "metadata": {},
   "outputs": [],
   "source": [
    "#Tinh gia tien (if - elif)\n",
    "inputdrink = int(input(\"Choose your drink: (1 to 5)\"))\n",
    "if (inputdrink == 1):\n",
    "    drink1 = 8000\n",
    "    inputcount = int(input(\"Choose amount: \"))\n",
    "    totalprice = drink1*inputcount\n",
    "    print(f'Total price: {totalprice}')\n",
    "elif (inputdrink == 2):\n",
    "    drink2 = 9000\n",
    "    inputcount = int(input(\"Choose amount: \"))\n",
    "    totalprice = drink2*inputcount\n",
    "    print(f'Total price: {totalprice}')\n",
    "elif (inputdrink == 3):\n",
    "    drink3 = 8500\n",
    "    inputcount = int(input(\"Choose amount: \"))\n",
    "    totalprice = drink3*inputcount\n",
    "    print(f'Total price: {totalprice}')\n",
    "elif (inputdrink == 4):\n",
    "    drink4 = 10000\n",
    "    inputcount = int(input(\"Choose amount: \"))\n",
    "    totalprice = drink4*inputcount\n",
    "    print(f'Total price: {totalprice}')\n",
    "elif (inputdrink == 5):    \n",
    "    drink5 = 9500\n",
    "    inputcount = int(input(\"Choose amount: \"))\n",
    "    totalprice = drink5*inputcount\n",
    "    print(f'Total price: {totalprice}')"
   ]
  }
 ],
 "metadata": {
  "kernelspec": {
   "display_name": "Python 3",
   "language": "python",
   "name": "python3"
  },
  "language_info": {
   "codemirror_mode": {
    "name": "ipython",
    "version": 3
   },
   "file_extension": ".py",
   "mimetype": "text/x-python",
   "name": "python",
   "nbconvert_exporter": "python",
   "pygments_lexer": "ipython3",
   "version": "3.11.6"
  }
 },
 "nbformat": 4,
 "nbformat_minor": 2
}
