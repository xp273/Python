{
 "cells": [
  {
   "cell_type": "code",
   "execution_count": 1,
   "metadata": {},
   "outputs": [
    {
     "name": "stdout",
     "output_type": "stream",
     "text": [
      "Output: 25\n"
     ]
    }
   ],
   "source": [
    "#Binh phuong so (if)\n",
    "inputNum = int(input(\"Write your number:\" ))\n",
    "\n",
    "if (inputNum < 0): \n",
    "    print(\"Number smaller than 0\")\n",
    "      \n",
    "if (inputNum > 10): \n",
    "    print(\"Number greater than 10\")\n",
    "\n",
    "if (inputNum > 0 and inputNum <= 10):\n",
    "    outputNum = inputNum**2\n",
    "    print(f'Output: {outputNum}')"
   ]
  },
  {
   "cell_type": "code",
   "execution_count": 2,
   "metadata": {},
   "outputs": [
    {
     "name": "stdout",
     "output_type": "stream",
     "text": [
      "Output: 36\n"
     ]
    }
   ],
   "source": [
    "#Binh phuong so (if else)\n",
    "inputNum = int(input(\"Write your number:\" ))\n",
    "\n",
    "if (inputNum < 0): \n",
    "    print(\"Number smaller than 0\")\n",
    "      \n",
    "else:\n",
    "    if (inputNum > 10): \n",
    "        print(\"Number greater than 10\")\n",
    "\n",
    "    else:\n",
    "        outputNum = inputNum**2\n",
    "        print(f'Output: {outputNum}')"
   ]
  },
  {
   "cell_type": "code",
   "execution_count": 3,
   "metadata": {},
   "outputs": [
    {
     "name": "stdout",
     "output_type": "stream",
     "text": [
      "Output: 9\n"
     ]
    }
   ],
   "source": [
    "#Binh phuong so (if elif)\n",
    "inputNum = int(input(\"Write your number:\" ))\n",
    "if (inputNum > 10):\n",
    "    print(\"Number greater than 10\")\n",
    "elif (inputNum < 0):\n",
    "    print(\"Number smaller than 0\")\n",
    "else:\n",
    "    outputNum = inputNum**2\n",
    "    print(f'Output: {outputNum}')"
   ]
  }
 ],
 "metadata": {
  "kernelspec": {
   "display_name": "Python 3",
   "language": "python",
   "name": "python3"
  },
  "language_info": {
   "codemirror_mode": {
    "name": "ipython",
    "version": 3
   },
   "file_extension": ".py",
   "mimetype": "text/x-python",
   "name": "python",
   "nbconvert_exporter": "python",
   "pygments_lexer": "ipython3",
   "version": "3.11.6"
  }
 },
 "nbformat": 4,
 "nbformat_minor": 2
}
