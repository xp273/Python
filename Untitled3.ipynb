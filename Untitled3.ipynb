{
 "cells": [
  {
   "cell_type": "code",
   "execution_count": 5,
   "id": "df3ef4e4",
   "metadata": {},
   "outputs": [
    {
     "name": "stdout",
     "output_type": "stream",
     "text": [
      "Nhap so sinh vien: 2\n",
      "So hoc phan: 3\n",
      "Nhap ten A\n",
      "Nhap diem hoc phan 1: 7\n",
      "Nhap diem hoc phan 2: 7\n",
      "Nhap diem hoc phan 3: 6\n",
      "Nhap ten B\n",
      "Nhap diem hoc phan 1: 8\n",
      "Nhap diem hoc phan 2: 8\n",
      "Nhap diem hoc phan 3: 7\n",
      "Diem TB 5.333333333333333\n",
      "Diem TB 5.333333333333333\n"
     ]
    }
   ],
   "source": [
    "so_sinh_vien  = int(input(\"Nhap so sinh vien: \"))\n",
    "so_hoc_phan = int(input(\"So hoc phan: \"))\n",
    "sinh_vien = []\n",
    "for i in range (0,so_sinh_vien):\n",
    "    sv = []\n",
    "    ten_sv = str(input(\"Nhap ten \"))\n",
    "    sv.append(ten_sv)\n",
    "    for j in range (1,so_hoc_phan+1):\n",
    "        diem_hp = float(input(f\"Nhap diem hoc phan {j}: \"))\n",
    "        sv.append(diem_hp)\n",
    "    sinh_vien.append(sv)\n",
    "\n",
    "for i in range(0,so_sinh_vien):\n",
    "    tong_diem = float(0)\n",
    "    for j in range (1,so_hoc_phan):\n",
    "        tong_diem += sv[j]\n",
    "    print(f\"Diem TB {tong_diem/so_hoc_phan}\")\n",
    "\n"
   ]
  },
  {
   "cell_type": "code",
   "execution_count": null,
   "id": "fdcf7a29",
   "metadata": {},
   "outputs": [],
   "source": []
  }
 ],
 "metadata": {
  "kernelspec": {
   "display_name": "Python 3 (ipykernel)",
   "language": "python",
   "name": "python3"
  },
  "language_info": {
   "codemirror_mode": {
    "name": "ipython",
    "version": 3
   },
   "file_extension": ".py",
   "mimetype": "text/x-python",
   "name": "python",
   "nbconvert_exporter": "python",
   "pygments_lexer": "ipython3",
   "version": "3.11.5"
  }
 },
 "nbformat": 4,
 "nbformat_minor": 5
}
