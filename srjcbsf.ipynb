{
 "cells": [
  {
   "cell_type": "code",
   "execution_count": 2,
   "metadata": {},
   "outputs": [
    {
     "name": "stdout",
     "output_type": "stream",
     "text": [
      "Tong so mon hoc: 9\n",
      "[8.4, 6.5, 7.3, 2.6, 9.0, 5.8, 6.0, 9.7, 8, 7, 7.5]\n",
      "['B+', 'B', 'C+', 'C', 'D+', 'D', 'F', 'C+', 'C', 'D+', 'D', 'F', 'B', 'C+', 'C', 'D+', 'D', 'F', 'F', 'A+', 'A', 'B+', 'B', 'C+', 'C', 'D+', 'D', 'F', 'C', 'D+', 'D', 'F', 'C', 'D+', 'D', 'F', 'A+', 'A', 'B+', 'B', 'C+', 'C', 'D+', 'D', 'F', 'B+', 'B', 'C+', 'C', 'D+', 'D', 'F', 'B', 'C+', 'C', 'D+', 'D', 'F', 'B', 'C+', 'C', 'D+', 'D', 'F']\n",
      "Diem he 10: [9, 8.5, 8, 7, 6.5, 5.5, 5, 4, 0]\n",
      "Diem chu tuong ung: ['B+', 'B', 'C+', 'C', 'D+', 'D', 'F', 'C+', 'C', 'D+', 'D', 'F', 'B', 'C+', 'C', 'D+', 'D', 'F', 'F', 'A+', 'A', 'B+', 'B', 'C+', 'C', 'D+', 'D', 'F', 'C', 'D+', 'D', 'F', 'C', 'D+', 'D', 'F', 'A+', 'A', 'B+', 'B', 'C+', 'C', 'D+', 'D', 'F', 'B+', 'B', 'C+', 'C', 'D+', 'D', 'F', 'B', 'C+', 'C', 'D+', 'D', 'F', 'B', 'C+', 'C', 'D+', 'D', 'F']\n",
      "Diem he 4: [4, 3.7, 3.5, 3, 2.5, 2, 1.5, 1, 0]\n"
     ]
    }
   ],
   "source": [
    "diem_he_10 = [9,8.5,8,7,6.5,5.5,5,4,0]\n",
    "diem_he_chu = ['A+','A','B+','B','C+','C','D+','D','F']\n",
    "diem_he_4 = [4,3.7,3.5,3,2.5,2,1.5,1,0]\n",
    "diem_chu_tuong_ung = []\n",
    "diem_he_4_tuong_ung = []\n",
    "danh_sach_dau_vao = [8.4,6.5,7.3,2.6,9.0,5.8,6.0,9.7,8,7,7.5]\n",
    "print(f'Tong so mon hoc: {len(diem_he_10)}')\n",
    "for i in range(0,len(danh_sach_dau_vao)):\n",
    "    for j in range(0,len(diem_he_10)):\n",
    "        if(danh_sach_dau_vao[i] >= diem_he_10[j]):\n",
    "            diem_chu_tuong_ung.append(diem_he_chu[j])\n",
    "            diem_he_4_tuong_ung.append(diem_he_4[j])\n",
    "\n",
    "print(danh_sach_dau_vao)\n",
    "print(diem_chu_tuong_ung)\n",
    "\n",
    "print(f'Diem he 10: {diem_he_10}')\n",
    "print(f'Diem chu tuong ung: {diem_chu_tuong_ung}')\n",
    "print(f'Diem he 4: {diem_he_4}')"
   ]
  },
  {
   "cell_type": "markdown",
   "metadata": {},
   "source": []
  }
 ],
 "metadata": {
  "kernelspec": {
   "display_name": "Python 3",
   "language": "python",
   "name": "python3"
  },
  "language_info": {
   "codemirror_mode": {
    "name": "ipython",
    "version": 3
   },
   "file_extension": ".py",
   "mimetype": "text/x-python",
   "name": "python",
   "nbconvert_exporter": "python",
   "pygments_lexer": "ipython3",
   "version": "3.11.6"
  }
 },
 "nbformat": 4,
 "nbformat_minor": 2
}
