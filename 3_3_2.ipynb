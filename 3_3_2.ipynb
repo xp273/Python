{
 "cells": [
  {
   "cell_type": "code",
   "execution_count": null,
   "metadata": {},
   "outputs": [],
   "source": [
    "#Ve hinh (if)\n",
    "import turtle as t  \n",
    "\n",
    "inputShape = input(\"Input Shape: (1: Circle - 2: Square - 3: Triangle)\")\n",
    "if (inputShape == '1'):\n",
    "    inputCircleRadius = float(input(\"Input circle's radius: \"))\n",
    "    t.circle(inputCircleRadius)\n",
    "if (inputShape == '2'):\n",
    "    inputSquareLength = float(input(\"Input square's length: \"))\n",
    "    for i in range(0,4):\n",
    "        t.fd(inputSquareLength)\n",
    "        t.rt(90)\n",
    "if (inputShape == '3'):\n",
    "    inputTriangleLength = float(input(\"Input triangle's length: \"))\n",
    "    t.rt(30)\n",
    "    t.fd(inputTriangleLength)\n",
    "    t.rt(120)\n",
    "    t.fd(inputTriangleLength)\n",
    "    t.rt(120)\n",
    "    t.fd(inputTriangleLength)\n",
    "t.mainloop()"
   ]
  },
  {
   "cell_type": "code",
   "execution_count": null,
   "metadata": {},
   "outputs": [],
   "source": [
    "#Ve hinh (if else)\n",
    "import turtle as t  \n",
    "\n",
    "inputShape = input(\"Input Shape: (1: Circle - 2: Square - 3: Triangle)\")\n",
    "if (inputShape == '1'):\n",
    "    inputCircleRadius = float(input(\"Input circle's radius: \"))\n",
    "    t.circle(inputCircleRadius)\n",
    "else:\n",
    "    if (inputShape == '2'):\n",
    "        inputSquareLength = float(input(\"Input square's length: \"))\n",
    "        for i in range(0,4):\n",
    "            t.fd(inputSquareLength)\n",
    "            t.rt(90)\n",
    "    else:\n",
    "        if(inputShape == '3'):\n",
    "            inputTriangleLength = float(input(\"Input triangle's length: \"))\n",
    "            t.rt(30)\n",
    "            t.fd(inputTriangleLength)\n",
    "            t.rt(120)\n",
    "            t.fd(inputTriangleLength)\n",
    "            t.rt(120)\n",
    "            t.fd(inputTriangleLength)\n",
    "t.mainloop()"
   ]
  },
  {
   "cell_type": "code",
   "execution_count": null,
   "metadata": {},
   "outputs": [],
   "source": [
    "#Ve hinh (if elif)\n",
    "import turtle as t  \n",
    "\n",
    "inputShape = input(\"Input Shape: (1: Circle - 2: Square - 3: Triangle)\")\n",
    "if (inputShape == '1'):\n",
    "    inputCircleRadius = float(input(\"Input circle's radius: \"))\n",
    "    t.circle(inputCircleRadius)\n",
    "elif (inputShape == '2'):\n",
    "    inputSquareLength = float(input(\"Input square's length: \"))\n",
    "    for i in range(0,4):\n",
    "        t.fd(inputSquareLength)\n",
    "        t.rt(90)\n",
    "elif (inputShape == '3'):\n",
    "    inputTriangleLength = float(input(\"Input triangle's length: \"))\n",
    "    t.rt(30)\n",
    "    t.fd(inputTriangleLength)\n",
    "    t.rt(120)\n",
    "    t.fd(inputTriangleLength)\n",
    "    t.rt(120)\n",
    "    t.fd(inputTriangleLength)\n",
    "t.mainloop()"
   ]
  }
 ],
 "metadata": {
  "language_info": {
   "name": "python"
  }
 },
 "nbformat": 4,
 "nbformat_minor": 2
}
