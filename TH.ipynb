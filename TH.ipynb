{
 "cells": [
  {
   "cell_type": "code",
   "execution_count": 5,
   "metadata": {},
   "outputs": [
    {
     "name": "stdout",
     "output_type": "stream",
     "text": [
      "Sum of list A: 55\n"
     ]
    }
   ],
   "source": [
    "#Tong A\n",
    "A = [1,3,5,9,11,2,6,8,10]\n",
    "lenA = len(A)\n",
    "sumA = 0\n",
    "for i in range(0,lenA):\n",
    "    sumA = sumA + A[i]\n",
    "print(f\"Sum of list A: {sumA}\")"
   ]
  },
  {
   "cell_type": "code",
   "execution_count": 10,
   "metadata": {},
   "outputs": [
    {
     "name": "stdout",
     "output_type": "stream",
     "text": [
      "Max A = 11\n",
      "Max A = 9\n"
     ]
    }
   ],
   "source": [
    "#Lon nhat trong A va B\n",
    "A = [1,3,5,9,11,2,6,8,10]\n",
    "B = [1,3,5,7,9]\n",
    "lenA = len(A)\n",
    "lenB = len(B)\n",
    "maxA = 0\n",
    "maxB = 0\n",
    "for i in range(0,lenA):\n",
    "    if A[i]>maxA:\n",
    "        maxA = A[i]\n",
    "print(f\"Max A = {maxA}\") \n",
    "\n",
    "for j in range(0,lenB):\n",
    "    if B[j]>maxB:\n",
    "        maxB = B[j]\n",
    "print(f\"Max B = {maxB}\")"
   ]
  },
  {
   "cell_type": "code",
   "execution_count": 11,
   "metadata": {},
   "outputs": [
    {
     "name": "stdout",
     "output_type": "stream",
     "text": [
      "Min A = 1\n",
      "Min B = 1\n"
     ]
    }
   ],
   "source": [
    "#Nho nhat trong A va B\n",
    "A = [1,3,5,9,11,2,6,8,10]\n",
    "B = [1,3,5,7,9]\n",
    "lenA = len(A)\n",
    "lenB = len(B)\n",
    "minA = A[1]\n",
    "minB = B[1]\n",
    "for i in range(0,lenA):\n",
    "    if A[i]<minA:\n",
    "        minA = A[i]\n",
    "print(f\"Min A = {minA}\") \n",
    "\n",
    "for j in range(0,lenB):\n",
    "    if B[j]<minB:\n",
    "        minB = B[j]\n",
    "print(f\"Min B = {minB}\")"
   ]
  },
  {
   "cell_type": "code",
   "execution_count": 13,
   "metadata": {},
   "outputs": [
    {
     "name": "stdout",
     "output_type": "stream",
     "text": [
      "Sum of list A: 55\n",
      "Sum of list B: 25\n",
      "C = A/B = 2.2\n"
     ]
    }
   ],
   "source": [
    "#Tong A va tong B, C=A/B\n",
    "A = [1,3,5,9,11,2,6,8,10]\n",
    "B = [1,3,5,7,9]\n",
    "lenA = len(A)\n",
    "lenB = len(B)\n",
    "sumA = 0\n",
    "sumB = 0\n",
    "\n",
    "for i in range(0,lenA):\n",
    "    sumA = sumA + A[i]\n",
    "print(f\"Sum of list A: {sumA}\")\n",
    "\n",
    "for j in range(0,lenB):\n",
    "    sumB = sumB + B[j]\n",
    "print(f\"Sum of list B: {sumB}\")\n",
    "\n",
    "print(f\"C = A/B = {sumA/sumB}\")"
   ]
  },
  {
   "cell_type": "code",
   "execution_count": 14,
   "metadata": {},
   "outputs": [
    {
     "name": "stdout",
     "output_type": "stream",
     "text": [
      "TBC list A: 6.111111111111111\n",
      "TBC list B: 5.0\n"
     ]
    }
   ],
   "source": [
    "#TBC cua A va B\n",
    "\n",
    "A = [1,3,5,9,11,2,6,8,10]\n",
    "B = [1,3,5,7,9]\n",
    "lenA = len(A)\n",
    "lenB = len(B)\n",
    "sumA = 0\n",
    "sumB = 0\n",
    "\n",
    "for i in range(0,lenA):\n",
    "    sumA = sumA + A[i]\n",
    "print(f\"TBC list A: {sumA/lenA}\")\n",
    "\n",
    "for j in range(0,lenB):\n",
    "    sumB = sumB + B[j]\n",
    "print(f\"TBC list B: {sumB/lenB}\")"
   ]
  },
  {
   "cell_type": "markdown",
   "metadata": {},
   "source": []
  }
 ],
 "metadata": {
  "kernelspec": {
   "display_name": "Python 3",
   "language": "python",
   "name": "python3"
  },
  "language_info": {
   "codemirror_mode": {
    "name": "ipython",
    "version": 3
   },
   "file_extension": ".py",
   "mimetype": "text/x-python",
   "name": "python",
   "nbconvert_exporter": "python",
   "pygments_lexer": "ipython3",
   "version": "3.11.6"
  }
 },
 "nbformat": 4,
 "nbformat_minor": 2
}
