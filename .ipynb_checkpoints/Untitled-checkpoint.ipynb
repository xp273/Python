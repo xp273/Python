{
 "cells": [
  {
   "cell_type": "code",
   "execution_count": 25,
   "id": "f2f34ade",
   "metadata": {},
   "outputs": [
    {
     "name": "stdout",
     "output_type": "stream",
     "text": [
      "Student: Long  - Subject:  Introduction to Data Science\n",
      "Grade A:  10 - Grade B: 9 - Grade C: 10\n",
      "Tong diem:  9.7\n"
     ]
    }
   ],
   "source": [
    "student_name = 'Long'\n",
    "subject =  'Introduction to Data Science'\n",
    "grade_A = 9\n",
    "grade_B = 9\n",
    "grade_C = 10\n",
    "grade_A = 10\n",
    "print(f'Student:', student_name, ' - Subject: ',subject)\n",
    "print(f'Grade A:  {grade_A} - Grade B: {grade_B} - Grade C: {grade_C}')\n",
    "print('Tong diem: ', (grade_A*.6) + (grade_B*.3) + (grade_C*.1))"
   ]
  },
  {
   "cell_type": "code",
   "execution_count": null,
   "id": "5239ed5c",
   "metadata": {},
   "outputs": [],
   "source": []
  }
 ],
 "metadata": {
  "kernelspec": {
   "display_name": "Python 3 (ipykernel)",
   "language": "python",
   "name": "python3"
  },
  "language_info": {
   "codemirror_mode": {
    "name": "ipython",
    "version": 3
   },
   "file_extension": ".py",
   "mimetype": "text/x-python",
   "name": "python",
   "nbconvert_exporter": "python",
   "pygments_lexer": "ipython3",
   "version": "3.11.5"
  }
 },
 "nbformat": 4,
 "nbformat_minor": 5
}
