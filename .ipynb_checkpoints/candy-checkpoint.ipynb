{
 "cells": [
  {
   "cell_type": "code",
   "execution_count": 1,
   "id": "da5d17f8",
   "metadata": {},
   "outputs": [
    {
     "name": "stdout",
     "output_type": "stream",
     "text": [
      "=======================================================\n",
      "Candy per student: 5\n",
      "Candy left: 10\n",
      "=======================================================\n"
     ]
    }
   ],
   "source": [
    "candy_count = 120\n",
    "student_count = 22\n",
    "per_student = candy_count//student_count\n",
    "remain = candy_count%student_count\n",
    "print('=======================================================')\n",
    "print(f'Candy per student: {per_student}')\n",
    "print(f'Candy left: {remain}')\n",
    "print('=======================================================')"
   ]
  },
  {
   "cell_type": "code",
   "execution_count": null,
   "id": "1e4ebf9f",
   "metadata": {},
   "outputs": [],
   "source": []
  }
 ],
 "metadata": {
  "kernelspec": {
   "display_name": "Python 3 (ipykernel)",
   "language": "python",
   "name": "python3"
  },
  "language_info": {
   "codemirror_mode": {
    "name": "ipython",
    "version": 3
   },
   "file_extension": ".py",
   "mimetype": "text/x-python",
   "name": "python",
   "nbconvert_exporter": "python",
   "pygments_lexer": "ipython3",
   "version": "3.11.5"
  }
 },
 "nbformat": 4,
 "nbformat_minor": 5
}
