{
 "cells": [
  {
   "cell_type": "code",
   "execution_count": null,
   "id": "72e08b62",
   "metadata": {},
   "outputs": [
    {
     "name": "stdout",
     "output_type": "stream",
     "text": [
      "Name? \n",
      "A\n",
      "Hello A\n",
      "A's question: \n",
      "Hi!\n",
      "No answer found!\n",
      "A's question: \n"
     ]
    }
   ],
   "source": [
    "import csv\n",
    "\n",
    "print(\"Name? \")\n",
    "name = input()\n",
    "print(f\"Hello {name}\")\n",
    "\n",
    "for i in range(0,100):\n",
    "    f = open(\"dataset.csv\", encoding=\"utf8\")\n",
    "    reader = csv.reader(f)\n",
    "    print(f\"{name}'s question: \")\n",
    "    user_question = input()\n",
    "    check = 0\n",
    "    run = 0\n",
    "\n",
    "    for question, answer in reader:\n",
    "        run += 1\n",
    "        if question == user_question:\n",
    "            print(f\"Answer: {answer}\") \n",
    "        else:\n",
    "            check += 1\n",
    "\n",
    "    if check == run:\n",
    "        print(\"No answer found!\")"
   ]
  },
  {
   "cell_type": "code",
   "execution_count": null,
   "id": "498a5c34",
   "metadata": {},
   "outputs": [],
   "source": []
  },
  {
   "cell_type": "code",
   "execution_count": null,
   "id": "70cf6cfb",
   "metadata": {},
   "outputs": [],
   "source": []
  }
 ],
 "metadata": {
  "kernelspec": {
   "display_name": "Python 3 (ipykernel)",
   "language": "python",
   "name": "python3"
  },
  "language_info": {
   "codemirror_mode": {
    "name": "ipython",
    "version": 3
   },
   "file_extension": ".py",
   "mimetype": "text/x-python",
   "name": "python",
   "nbconvert_exporter": "python",
   "pygments_lexer": "ipython3",
   "version": "3.11.5"
  }
 },
 "nbformat": 4,
 "nbformat_minor": 5
}
