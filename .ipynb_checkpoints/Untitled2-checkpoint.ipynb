{
 "cells": [
  {
   "cell_type": "code",
   "execution_count": null,
   "id": "c0c43b3c",
   "metadata": {},
   "outputs": [],
   "source": [
    "import csv\n",
    "\n",
    "\n",
    "name = input(\"Your name?\")\n",
    "print(f\"Hello {name}\")\n",
    "\n",
    "for i in range(0,100):\n",
    "    f = open(\"dataset.csv\",encoding=\"utf8\")\n",
    "    reader = csv.reader(f)\n",
    "    user_question = input(\"What do you want to ask?\")\n",
    "\n",
    "    counter_run = 0\n",
    "    counter_check = 0\n",
    "\n",
    "    for question, answer in reader:\n",
    "        counter_run+=1\n",
    "        if question == user_question:\n",
    "            print(f\"Answer: {answer}\")\n",
    "        else:\n",
    "            counter_check+=1\n",
    "\n",
    "    if counter_check == counter_run:\n",
    "        print(\"No answer found\")"
   ]
  }
 ],
 "metadata": {
  "kernelspec": {
   "display_name": "Python 3 (ipykernel)",
   "language": "python",
   "name": "python3"
  },
  "language_info": {
   "codemirror_mode": {
    "name": "ipython",
    "version": 3
   },
   "file_extension": ".py",
   "mimetype": "text/x-python",
   "name": "python",
   "nbconvert_exporter": "python",
   "pygments_lexer": "ipython3",
   "version": "3.11.5"
  }
 },
 "nbformat": 4,
 "nbformat_minor": 5
}
