{
 "cells": [
  {
   "cell_type": "code",
   "execution_count": 5,
   "metadata": {},
   "outputs": [
    {
     "name": "stdout",
     "output_type": "stream",
     "text": [
      "Welcome!\n",
      "Congratulation! You're qualified!\n"
     ]
    }
   ],
   "source": [
    "print('Welcome!')\n",
    "gender = input(\"What is your gender? (M or F)\")\n",
    "age = int(input(\"How old are you? \"))\n",
    "exp_yrs = int(input(\"How many years of experiences do you have?\"))\n",
    "height = float(input(\"How tall are you? (in m)\"))\n",
    "weight = float(input(\"What is your weight? (in kg)\"))\n",
    "\n",
    "if  ( gender == 'F' and (age in range(18,31)) and weight <= 45 and height >= 1.55):\n",
    "    print(\"Congratulation! You're qualified!\")\n",
    "elif (gender == 'F' and (age in range(30,40))):\n",
    "    if ( (exp_yrs in range(2,5)) and height >=1.6 and weight >= 50):\n",
    "        print(\"Congratulation! You're qualified!\")\n",
    "    if ( exp_yrs>=5 and height >=1.55 and weight <=45):\n",
    "        print(\"Congratulation! You're qualified!\")\n",
    "else: print(\"Sorry you're not qualified!\")"
   ]
  }
 ],
 "metadata": {
  "kernelspec": {
   "display_name": "Python 3",
   "language": "python",
   "name": "python3"
  },
  "language_info": {
   "codemirror_mode": {
    "name": "ipython",
    "version": 3
   },
   "file_extension": ".py",
   "mimetype": "text/x-python",
   "name": "python",
   "nbconvert_exporter": "python",
   "pygments_lexer": "ipython3",
   "version": "3.11.6"
  }
 },
 "nbformat": 4,
 "nbformat_minor": 2
}
