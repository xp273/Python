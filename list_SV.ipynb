{
 "cells": [
  {
   "cell_type": "code",
   "execution_count": 8,
   "metadata": {},
   "outputs": [
    {
     "name": "stdout",
     "output_type": "stream",
     "text": [
      "========================================================\n",
      "Ten SV: NVA - Tuoi: 21\n",
      "Diem Toan: 7.0 - Diem Ly: 6.0 - Diem Hoa: 7.0\n",
      "Diem Tb: 6.666666666666667\n",
      "========================================================\n",
      "========================================================\n",
      "Ten SV: NVB - Tuoi: 22\n",
      "Diem Toan: 8.0 - Diem Ly: 6.0 - Diem Hoa: 7.0\n",
      "Diem Tb: 7.0\n",
      "========================================================\n",
      "========================================================\n",
      "Ten SV: NVC - Tuoi: 10\n",
      "Diem Toan: 9.0 - Diem Ly: 7.0 - Diem Hoa: 7.0\n",
      "Diem Tb: 7.666666666666667\n",
      "========================================================\n"
     ]
    }
   ],
   "source": [
    "ten_sv = []\n",
    "tuoi_sv = []\n",
    "diem_toan = []\n",
    "diem_ly = []\n",
    "diem_hoa = []\n",
    "\n",
    "so_sv = int(input(\"So sinh vien?\"))\n",
    "\n",
    "for i in range (0,so_sv):\n",
    "    ten = str(input(\"Ten SV: \"))\n",
    "    ten_sv.append(ten)\n",
    "    tuoi = int(input(\"Tuoi SV: \"))\n",
    "    tuoi_sv.append(tuoi)\n",
    "    toan = float(input(\"Diem Toan: \"))\n",
    "    diem_toan.append(toan)\n",
    "    ly = float(input(\"Diem Ly: \"))\n",
    "    diem_ly.append(ly)\n",
    "    hoa = float(input(\"Diem Hoa: \"))\n",
    "    diem_hoa.append(hoa)\n",
    "\n",
    "for j in range (0,so_sv):\n",
    "    print(\"========================================================\")\n",
    "    print(f\"Ten SV: {ten_sv[j]} - Tuoi: {tuoi_sv[j]}\")\n",
    "    print(f\"Diem Toan: {diem_toan[j]} - Diem Ly: {diem_ly[j]} - Diem Hoa: {diem_hoa[j]}\")\n",
    "    print(f\"Diem Tb: {(diem_toan[j]+diem_ly[j]+diem_hoa[j])/3}\")\n",
    "    print(\"========================================================\")\n",
    "\n"
   ]
  },
  {
   "cell_type": "markdown",
   "metadata": {},
   "source": []
  }
 ],
 "metadata": {
  "kernelspec": {
   "display_name": "Python 3",
   "language": "python",
   "name": "python3"
  },
  "language_info": {
   "codemirror_mode": {
    "name": "ipython",
    "version": 3
   },
   "file_extension": ".py",
   "mimetype": "text/x-python",
   "name": "python",
   "nbconvert_exporter": "python",
   "pygments_lexer": "ipython3",
   "version": "3.11.6"
  }
 },
 "nbformat": 4,
 "nbformat_minor": 2
}
