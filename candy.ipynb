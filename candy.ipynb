{
 "cells": [
  {
   "cell_type": "code",
   "execution_count": 2,
   "id": "da5d17f8",
   "metadata": {},
   "outputs": [
    {
     "name": "stdout",
     "output_type": "stream",
     "text": [
      "=======================================================\n",
      "Candy per student: 8\n",
      "Candy left: 1\n",
      "=======================================================\n"
     ]
    }
   ],
   "source": [
    "candy_count = int(input('Total candy: '))\n",
    "student_count = int(input('Total student'))\n",
    "per_student = candy_count//student_count\n",
    "remain = candy_count%student_count\n",
    "print('=======================================================')\n",
    "print(f'Candy per student: {per_student}')\n",
    "print(f'Candy left: {remain}')\n",
    "print('=======================================================')"
   ]
  },
  {
   "cell_type": "code",
   "execution_count": 3,
   "metadata": {},
   "outputs": [
    {
     "name": "stdout",
     "output_type": "stream",
     "text": [
      "=======================================================\n",
      "Total cost: 600000\n",
      "=======================================================\n"
     ]
    }
   ],
   "source": [
    "product_price = int(input('Product price: '))\n",
    "product_count = int(input('Product count: '))\n",
    "total_cost = product_count*product_price\n",
    "print('=======================================================')\n",
    "print(f'Total cost: {total_cost}')\n",
    "print('=======================================================')"
   ]
  },
  {
   "cell_type": "code",
   "execution_count": 4,
   "metadata": {},
   "outputs": [
    {
     "name": "stdout",
     "output_type": "stream",
     "text": [
      "=======================================================\n",
      "Your weight: 50 kg - Your height: 165 m\n",
      "Your BMI Score: 0.066\n",
      "=======================================================\n"
     ]
    }
   ],
   "source": [
    "input_weight = int(input(\"Your weight: \"))\n",
    "input_height = int(input(\"Your height: \"))\n",
    "bmi_score = input_height /(input_weight*input_weight)\n",
    "print('=======================================================')\n",
    "print(f'Your weight: {input_weight} kg - Your height: {input_height} m')\n",
    "print(f'Your BMI Score: {bmi_score}')\n",
    "print('=======================================================')"
   ]
  }
 ],
 "metadata": {
  "kernelspec": {
   "display_name": "Python 3 (ipykernel)",
   "language": "python",
   "name": "python3"
  },
  "language_info": {
   "codemirror_mode": {
    "name": "ipython",
    "version": 3
   },
   "file_extension": ".py",
   "mimetype": "text/x-python",
   "name": "python",
   "nbconvert_exporter": "python",
   "pygments_lexer": "ipython3",
   "version": "3.11.6"
  }
 },
 "nbformat": 4,
 "nbformat_minor": 5
}
