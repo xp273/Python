{
 "cells": [
  {
   "cell_type": "code",
   "execution_count": 3,
   "metadata": {},
   "outputs": [
    {
     "name": "stdout",
     "output_type": "stream",
     "text": [
      "==============================================\n",
      "Student name: dtbstdfv\n",
      "Student height: 144.0\n",
      "==============================================\n",
      "Student name: fghbxdfth\n",
      "Student height: 165.0\n",
      "==============================================\n",
      "Student name: sdcgdrsgh\n",
      "Student height: 173.0\n",
      "==============================================\n",
      "Average hegiht: 160.66666666666666\n",
      "Student fghbxdfth is higher than the average height of the class (160.66666666666666)\n",
      "Student sdcgdrsgh is higher than the average height of the class (160.66666666666666)\n"
     ]
    }
   ],
   "source": [
    "student_list_name = []\n",
    "student_list_height = []\n",
    "student_count = int(input(\"How many student? \"))\n",
    "\n",
    "for std_count in range (0,student_count):\n",
    "    std_name = input(\"Student name? \")\n",
    "    student_list_name.append(std_name)\n",
    "    std_height = float(input(\"Student height? \"))\n",
    "    student_list_height.append(std_height)\n",
    "\n",
    "for std_count in range (0,student_count):\n",
    "    print(\"==============================================\")\n",
    "    print(f\"Student name: {student_list_name[std_count]}\")\n",
    "    print(f\"Student height: {student_list_height[std_count]}\")\n",
    "\n",
    "    \n",
    "sum_height = 0\n",
    "for std_count in range (0,student_count):\n",
    "    sum_height += student_list_height[std_count]\n",
    "average_height = sum_height/student_count\n",
    "print(\"==============================================\")\n",
    "print(f\"Average hegiht: {average_height}\")\n",
    "\n",
    "for std_count in range (0,student_count):\n",
    "    if (student_list_height[std_count] > average_height):\n",
    "        print(f\"Student {student_list_name[std_count]} is higher than the average height of the class ({average_height})\")"
   ]
  }
 ],
 "metadata": {
  "kernelspec": {
   "display_name": "Python 3",
   "language": "python",
   "name": "python3"
  },
  "language_info": {
   "codemirror_mode": {
    "name": "ipython",
    "version": 3
   },
   "file_extension": ".py",
   "mimetype": "text/x-python",
   "name": "python",
   "nbconvert_exporter": "python",
   "pygments_lexer": "ipython3",
   "version": "3.11.6"
  }
 },
 "nbformat": 4,
 "nbformat_minor": 2
}
