{
 "cells": [
  {
   "cell_type": "code",
   "execution_count": 6,
   "metadata": {},
   "outputs": [
    {
     "name": "stdout",
     "output_type": "stream",
     "text": [
      "Output: 100\n"
     ]
    }
   ],
   "source": [
    "#Binh phuong so\n",
    "inputNum = int(input(\"Write your number:\" ))\n",
    "if (inputNum > 0 and inputNum <= 10):\n",
    "    outputNum = inputNum**2\n",
    "    print(f'Output: {outputNum}')\n",
    "else: \n",
    "    print(\"Number greater than 10\")"
   ]
  },
  {
   "cell_type": "code",
   "execution_count": 1,
   "metadata": {},
   "outputs": [],
   "source": [
    "#Ve hinh\n",
    "import turtle as t  \n",
    "\n",
    "inputShape = input(\"Input Shape: (1: Circle - 2: Square - 3: Triangle)\")\n",
    "if (inputShape == '1'):\n",
    "    inputCircleRadius = float(input(\"Input circle's radius: \"))\n",
    "    t.circle(inputCircleRadius)\n",
    "elif (inputShape == '2'):\n",
    "    inputSquareLength = float(input(\"Input square's length: \"))\n",
    "    for i in range(0,4):\n",
    "        t.fd(inputSquareLength)\n",
    "        t.rt(90)\n",
    "elif (inputShape == '3'):\n",
    "    inputTriangleLength = float(input(\"Input triangle's length: \"))\n",
    "    t.rt(30)\n",
    "    t.fd(inputTriangleLength)\n",
    "    t.rt(120)\n",
    "    t.fd(inputTriangleLength)\n",
    "    t.rt(120)\n",
    "    t.fd(inputTriangleLength)\n",
    "t.mainloop()"
   ]
  },
  {
   "cell_type": "code",
   "execution_count": 1,
   "metadata": {},
   "outputs": [
    {
     "name": "stdout",
     "output_type": "stream",
     "text": [
      "Total price: 95000\n"
     ]
    }
   ],
   "source": [
    "#Tinh gia tien\n",
    "inputdrink = int(input(\"Choose your drink: (1 to 5)\"))\n",
    "if (inputdrink == 1):\n",
    "    drink1 = 8000\n",
    "    inputcount = int(input(\"Choose amount: \"))\n",
    "    totalprice = drink1*inputcount\n",
    "    print(f'Total price: {totalprice}')\n",
    "elif (inputdrink == 2):\n",
    "    drink2 = 9000\n",
    "    inputcount = int(input(\"Choose amount: \"))\n",
    "    totalprice = drink2*inputcount\n",
    "    print(f'Total price: {totalprice}')\n",
    "elif (inputdrink == 3):\n",
    "    drink3 = 8500\n",
    "    inputcount = int(input(\"Choose amount: \"))\n",
    "    totalprice = drink3*inputcount\n",
    "    print(f'Total price: {totalprice}')\n",
    "elif (inputdrink == 4):\n",
    "    drink4 = 10000\n",
    "    inputcount = int(input(\"Choose amount: \"))\n",
    "    totalprice = drink4*inputcount\n",
    "    print(f'Total price: {totalprice}')\n",
    "elif (inputdrink == 5):    \n",
    "    drink5 = 9500\n",
    "    inputcount = int(input(\"Choose amount: \"))\n",
    "    totalprice = drink5*inputcount\n",
    "    print(f'Total price: {totalprice}')"
   ]
  },
  {
   "cell_type": "code",
   "execution_count": null,
   "metadata": {},
   "outputs": [],
   "source": [
    "player_input = input(\"Continue? (Y/N)\")\n",
    "if (player_input == 'Y'):\n",
    "    print(\"Game closed\")\n",
    "elif (player_input == 'N'):\n",
    "    print(\"Game continued\")"
   ]
  }
 ],
 "metadata": {
  "kernelspec": {
   "display_name": "Python 3",
   "language": "python",
   "name": "python3"
  },
  "language_info": {
   "codemirror_mode": {
    "name": "ipython",
    "version": 3
   },
   "file_extension": ".py",
   "mimetype": "text/x-python",
   "name": "python",
   "nbconvert_exporter": "python",
   "pygments_lexer": "ipython3",
   "version": "3.11.6"
  }
 },
 "nbformat": 4,
 "nbformat_minor": 2
}
