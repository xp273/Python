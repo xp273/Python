{
 "cells": [
  {
   "cell_type": "code",
   "execution_count": 9,
   "metadata": {},
   "outputs": [
    {
     "name": "stdout",
     "output_type": "stream",
     "text": [
      "Chose your drink from this menu: \n",
      "Drink Name: Drink 1 - Price: 10000\n",
      "Drink Name: Drink 2 - Price: 9500\n",
      "Drink Name: Drink 3 - Price: 8500\n",
      "Drink Name: Drink 4 - Price: 9000\n",
      "Drink Name: Drink 5 - Price: 10500\n",
      "==================================================================\n",
      "Drink choosen: Drink 1 - Count: 3\n",
      "Total cost: 30000\n",
      "==================================================================\n"
     ]
    }
   ],
   "source": [
    "drink = [\"Drink 1\",\"Drink 2\",\"Drink 3\",\"Drink 4\",\"Drink 5\"]\n",
    "price = [10000,9500,8500,9000,10500]\n",
    "\n",
    "print(\"Chose your drink from this menu: \")\n",
    "for x in range (1,6):\n",
    "    print(f\"Drink Name: {drink[x-1]} - Price: {price[x-1]}\" )\n",
    "\n",
    "input_drink = int(input(\"Choose your drink: \"))\n",
    "input_count = int(input(\"Choose the number of drink: \"))\n",
    "if (input_drink in range (1,6)):\n",
    "    total_price = price[input_drink-1] * input_count\n",
    "    print(\"==================================================================\")\n",
    "    print(f\"Drink choosen: {drink[input_drink-1]} - Count: {input_count}\")\n",
    "    print(f\"Total cost: {total_price}\")\n",
    "    print(\"==================================================================\")\n",
    "else: \n",
    "    print(\"Please try again\")\n",
    "\n",
    "    "
   ]
  }
 ],
 "metadata": {
  "kernelspec": {
   "display_name": "Python 3",
   "language": "python",
   "name": "python3"
  },
  "language_info": {
   "codemirror_mode": {
    "name": "ipython",
    "version": 3
   },
   "file_extension": ".py",
   "mimetype": "text/x-python",
   "name": "python",
   "nbconvert_exporter": "python",
   "pygments_lexer": "ipython3",
   "version": "3.11.6"
  }
 },
 "nbformat": 4,
 "nbformat_minor": 2
}
