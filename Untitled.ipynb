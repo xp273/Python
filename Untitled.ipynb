{
 "cells": [
  {
   "cell_type": "code",
   "execution_count": 7,
   "id": "f2f34ade",
   "metadata": {},
   "outputs": [
    {
     "name": "stdout",
     "output_type": "stream",
     "text": [
      "Number greater than 10\n"
     ]
    }
   ],
   "source": [
    "inputNum = int(input(\"Write your number:\" ))\n",
    "if inputNum in range (1,10):\n",
    "    outputNum = inputNum**2\n",
    "    print(f'Output: {outputNum}')\n",
    "else: \n",
    "    print(\"Number greater than 10\")\n"
   ]
  },
  {
   "cell_type": "code",
   "execution_count": 6,
   "id": "5239ed5c",
   "metadata": {},
   "outputs": [
    {
     "name": "stdout",
     "output_type": "stream",
     "text": [
      "Quitted\n",
      "The end\n"
     ]
    }
   ],
   "source": [
    "quitGame = input(\"Quit game? Y/N: \")\n",
    "if(quitGame == 'Y'):print(\"Quitted\")\n",
    "if(quitGame == 'N'):print(\"Continued\")\n",
    "print(\"The end\")"
   ]
  }
 ],
 "metadata": {
  "kernelspec": {
   "display_name": "Python 3 (ipykernel)",
   "language": "python",
   "name": "python3"
  },
  "language_info": {
   "codemirror_mode": {
    "name": "ipython",
    "version": 3
   },
   "file_extension": ".py",
   "mimetype": "text/x-python",
   "name": "python",
   "nbconvert_exporter": "python",
   "pygments_lexer": "ipython3",
   "version": "3.11.6"
  }
 },
 "nbformat": 4,
 "nbformat_minor": 5
}
