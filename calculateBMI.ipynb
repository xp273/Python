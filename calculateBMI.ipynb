{
 "cells": [
  {
   "cell_type": "code",
   "execution_count": 7,
   "id": "94e4bb4d",
   "metadata": {},
   "outputs": [
    {
     "name": "stdout",
     "output_type": "stream",
     "text": [
      "=======================================================\n",
      "Your weight: 70 kg - Your height: 1.75 m\n",
      "Your BMI Score: 0.00035714285714285714\n",
      "=======================================================\n"
     ]
    }
   ],
   "source": [
    "input_weight = 70\n",
    "input_height = 1.75\n",
    "bmi_score = input_height /(input_weight*input_weight)\n",
    "print('=======================================================')\n",
    "print(f'Your weight: {input_weight} kg - Your height: {input_height} m')\n",
    "print(f'Your BMI Score: {bmi_score}')\n",
    "print('=======================================================')"
   ]
  }
 ],
 "metadata": {
  "kernelspec": {
   "display_name": "Python 3 (ipykernel)",
   "language": "python",
   "name": "python3"
  },
  "language_info": {
   "codemirror_mode": {
    "name": "ipython",
    "version": 3
   },
   "file_extension": ".py",
   "mimetype": "text/x-python",
   "name": "python",
   "nbconvert_exporter": "python",
   "pygments_lexer": "ipython3",
   "version": "3.11.5"
  }
 },
 "nbformat": 4,
 "nbformat_minor": 5
}
