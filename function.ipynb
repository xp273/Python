{
 "cells": [
  {
   "cell_type": "code",
   "execution_count": 6,
   "metadata": {},
   "outputs": [
    {
     "name": "stdout",
     "output_type": "stream",
     "text": [
      "Original list: [1, 7, 3, 4, 2, 8, 9, 6, 11, 13, 12, 14, 10, 17, 19, 16, 15, 18, 20, 5]\n",
      "Low to high: [1, 2, 3, 4, 5, 6, 7, 8, 9, 10, 11, 12, 13, 14, 15, 16, 17, 18, 19, 20]\n",
      "High to low: [20, 19, 18, 17, 16, 15, 14, 13, 12, 11, 10, 9, 8, 7, 6, 5, 4, 3, 2, 1]\n"
     ]
    }
   ],
   "source": [
    "#Sap xep\n",
    "num_list = [1,7,3,4,2,8,9,6,11,13,12,14,10,17,19,16,15,18,20,5]\n",
    "\n",
    "def higher(num_list):\n",
    "    temp_num = 0\n",
    "    for i in range (0,len(num_list)):\n",
    "        for j in range (0,len(num_list)):\n",
    "            if num_list[i]<num_list[j]:\n",
    "                temp_num = num_list[i]\n",
    "                num_list[i] = num_list[j]\n",
    "                num_list[j] = temp_num\n",
    "    return(num_list)\n",
    "\n",
    "def lower(num_list):\n",
    "    temp_num = 0\n",
    "    for i in range (0,len(num_list)):\n",
    "        for j in range (0,len(num_list)):\n",
    "            if num_list[i]>num_list[j]:\n",
    "                temp_num = num_list[i]\n",
    "                num_list[i] = num_list[j]\n",
    "                num_list[j] = temp_num\n",
    "    return(num_list)\n",
    "\n",
    "print(f\"Original list: {num_list}\")\n",
    "print(f\"Low to high: {higher(num_list)}\")\n",
    "print(f\"High to low: {lower(num_list)}\")"
   ]
  },
  {
   "cell_type": "code",
   "execution_count": 7,
   "metadata": {},
   "outputs": [
    {
     "data": {
      "text/plain": [
       "4.666666666666667"
      ]
     },
     "execution_count": 7,
     "metadata": {},
     "output_type": "execute_result"
    }
   ],
   "source": [
    "#Tinh tong 3\n",
    "\n",
    "def Tinh_tong_3():\n",
    "    sum = float(0)\n",
    "    for counter in range(1,4):\n",
    "        num = float(input(f\"Nhap so thu {counter}: \"))\n",
    "        sum += num\n",
    "    return(sum/3)\n",
    "\n",
    "Tinh_tong_3()\n"
   ]
  },
  {
   "cell_type": "code",
   "execution_count": 8,
   "metadata": {},
   "outputs": [
    {
     "data": {
      "text/plain": [
       "6.444444444444445"
      ]
     },
     "execution_count": 8,
     "metadata": {},
     "output_type": "execute_result"
    }
   ],
   "source": [
    "#Tinh tong 9\n",
    "\n",
    "def Tinh_tong_9():\n",
    "    sum = float(0)\n",
    "    for counter in range(1,10):\n",
    "        num = float(input(f\"Nhap so thu {counter}: \"))\n",
    "        sum += num\n",
    "    return(sum/9)\n",
    "\n",
    "Tinh_tong_9()\n"
   ]
  }
 ],
 "metadata": {
  "kernelspec": {
   "display_name": "Python 3",
   "language": "python",
   "name": "python3"
  },
  "language_info": {
   "codemirror_mode": {
    "name": "ipython",
    "version": 3
   },
   "file_extension": ".py",
   "mimetype": "text/x-python",
   "name": "python",
   "nbconvert_exporter": "python",
   "pygments_lexer": "ipython3",
   "version": "3.11.6"
  }
 },
 "nbformat": 4,
 "nbformat_minor": 2
}
