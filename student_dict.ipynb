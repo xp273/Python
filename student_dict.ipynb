{
 "cells": [
  {
   "cell_type": "code",
   "execution_count": 21,
   "metadata": {},
   "outputs": [
    {
     "name": "stdout",
     "output_type": "stream",
     "text": [
      "{'student': {'ID': 'bse4tv', 'Name': 'B', 'Subject ': '2', 'Score': '6'}}\n"
     ]
    }
   ],
   "source": [
    "student_count = int(input(\"How many student?\"))\n",
    "subject_count = int(input(\"Subject count? \"))\n",
    "\n",
    "student_dict = {}\n",
    "\n",
    "for member in range (student_count):\n",
    "    student = {}\n",
    "    std_id = input(\"Student ID: \")\n",
    "    student[\"ID\"] =  std_id\n",
    "    std_name = str(input(\"Student name: \"))\n",
    "    student[\"Name\"] = std_name\n",
    "\n",
    "    for subject in range(subject_count):\n",
    "        subj_name = input(\"Subject name: \")\n",
    "        student[\"Subject \"] = subj_name\n",
    "        subj_score = input(\"Subject grades: \")\n",
    "        student[\"Score\"] = subj_score\n",
    "    student_dict.append(student)\n",
    "\n",
    "print(student_dict)\n"
   ]
  },
  {
   "cell_type": "code",
   "execution_count": null,
   "metadata": {},
   "outputs": [],
   "source": []
  }
 ],
 "metadata": {
  "kernelspec": {
   "display_name": "Python 3",
   "language": "python",
   "name": "python3"
  },
  "language_info": {
   "codemirror_mode": {
    "name": "ipython",
    "version": 3
   },
   "file_extension": ".py",
   "mimetype": "text/x-python",
   "name": "python",
   "nbconvert_exporter": "python",
   "pygments_lexer": "ipython3",
   "version": "3.11.6"
  }
 },
 "nbformat": 4,
 "nbformat_minor": 2
}
