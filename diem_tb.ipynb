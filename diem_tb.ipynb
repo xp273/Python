{
 "cells": [
  {
   "cell_type": "code",
   "execution_count": 16,
   "metadata": {},
   "outputs": [
    {
     "name": "stdout",
     "output_type": "stream",
     "text": [
      "Sinh vien 1 - Tong Diem: 6.0- Diem TB 2.0\n"
     ]
    },
    {
     "data": {
      "text/plain": [
       "1"
      ]
     },
     "execution_count": 16,
     "metadata": {},
     "output_type": "execute_result"
    }
   ],
   "source": [
    "so_sinh_vien  = int(input(\"Nhap so sinh vien: \"))\n",
    "so_hoc_phan = int(input(\"So hoc phan: \"))\n",
    "sinh_vien = []\n",
    "for i in range (0,so_sinh_vien):\n",
    "    sv = []\n",
    "    ten_sv = str(input(\"Nhap ten \"))\n",
    "    sv.append(ten_sv)\n",
    "    for j in range (1,so_hoc_phan+1):\n",
    "        diem_hp = float(input(f\"Nhap diem hoc phan {j}: \"))\n",
    "        sv.append(diem_hp)\n",
    "    sinh_vien.append(sv)\n",
    "\n",
    "for i in range (0,so_sinh_vien):\n",
    "    tong_diem = float(0)\n",
    "    for j in range (1,so_hoc_phan+1):\n",
    "        tong_diem += sinh_vien[i][j]\n",
    "    print(f\"Sinh vien {i+1} - Tong Diem: {tong_diem}- Diem TB {tong_diem/so_hoc_phan}\")\n",
    "\n",
    "1"
   ]
  }
 ],
 "metadata": {
  "kernelspec": {
   "display_name": "Python 3",
   "language": "python",
   "name": "python3"
  },
  "language_info": {
   "codemirror_mode": {
    "name": "ipython",
    "version": 3
   },
   "file_extension": ".py",
   "mimetype": "text/x-python",
   "name": "python",
   "nbconvert_exporter": "python",
   "pygments_lexer": "ipython3",
   "version": "3.11.6"
  }
 },
 "nbformat": 4,
 "nbformat_minor": 2
}
